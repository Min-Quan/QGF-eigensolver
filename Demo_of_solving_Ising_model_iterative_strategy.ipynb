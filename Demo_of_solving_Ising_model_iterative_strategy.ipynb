{
 "cells": [
  {
   "cell_type": "code",
   "execution_count": 1,
   "id": "826cf6cf",
   "metadata": {},
   "outputs": [],
   "source": [
    "import qutip as qp\n",
    "import numpy as np\n",
    "import matplotlib.pyplot as plt\n",
    "import H_generator\n",
    "from GFE import GFE_circuit"
   ]
  },
  {
   "cell_type": "code",
   "execution_count": 2,
   "id": "0ea6ef86",
   "metadata": {},
   "outputs": [],
   "source": [
    "# Ignore warning\n",
    "import warnings\n",
    "warnings.filterwarnings(\"ignore\")"
   ]
  },
  {
   "cell_type": "markdown",
   "id": "7b7a0a45",
   "metadata": {},
   "source": [
    "# Initialization"
   ]
  },
  {
   "cell_type": "code",
   "execution_count": 3,
   "id": "b7eb3290",
   "metadata": {},
   "outputs": [],
   "source": [
    "# Circuit initialization\n",
    "QC_6 = GFE_circuit()\n",
    "QC_8 = GFE_circuit()\n",
    "QC_10 = GFE_circuit()\n",
    "\n",
    "# set the initial discrete parameters\n",
    "dy, My = 0.08, 30\n",
    "QC_6.set_discrete_parameters(dy, My)\n",
    "QC_8.set_discrete_parameters(dy, My)\n",
    "QC_10.set_discrete_parameters(dy, My)\n",
    "\n",
    "# Generate the Hamiltonian\n",
    "N = 6\n",
    "J = 1\n",
    "g = 2\n",
    "shift_E = 13\n",
    "H_6 = H_generator.build_Ising_model(N, J, g, shift_E)\n",
    "h_list_6 = H_generator.Ising_model_decomposition(N, J, g, shift_E)\n",
    "E_exact_6 = H_6.eigenenergies()[0]\n",
    "QC_6.set_Hamiltonian(H_6)\n",
    "QC_6.set_local_operator_list(h_list_6)\n",
    "\n",
    "N = 8\n",
    "shift_E = 17.3\n",
    "H_8 = H_generator.build_Ising_model(N, J, g, shift_E)\n",
    "h_list_8 = H_generator.Ising_model_decomposition(N, J, g, shift_E)\n",
    "E_exact_8 = H_8.eigenenergies()[0]\n",
    "QC_8.set_Hamiltonian(H_8)\n",
    "QC_8.set_local_operator_list(h_list_8)\n",
    "\n",
    "N = 10\n",
    "shift_E = 21.5\n",
    "H_10 = H_generator.build_Ising_model(N, J, g, shift_E)\n",
    "h_list_10 = H_generator.Ising_model_decomposition(N, J, g, shift_E)\n",
    "E_exact_10 = H_10.eigenenergies()[0]\n",
    "QC_10.set_Hamiltonian(H_10)\n",
    "QC_10.set_local_operator_list(h_list_10)"
   ]
  },
  {
   "cell_type": "code",
   "execution_count": 4,
   "id": "28adfd7f",
   "metadata": {},
   "outputs": [],
   "source": [
    "# Generate random initial state\n",
    "for N in [6, 8, 10]:\n",
    "    QC_6.gen_rand_initial_state(QC_6.h_list, 1)\n",
    "    QC_8.gen_rand_initial_state(QC_8.h_list, 1)\n",
    "    QC_10.gen_rand_initial_state(QC_10.h_list, 1)\n",
    "ini_state_list = [QC_6.ini_state, QC_8.ini_state, QC_10.ini_state]\n",
    "qp.fileio.qsave(ini_state_list, './data/rand_ini_state_for_iterative_simulation')"
   ]
  },
  {
   "cell_type": "code",
   "execution_count": 5,
   "id": "d6fd5c89",
   "metadata": {},
   "outputs": [
    {
     "name": "stdout",
     "output_type": "stream",
     "text": [
      "Loaded list object.\n"
     ]
    }
   ],
   "source": [
    "# Load the saved random initial state\n",
    "ini_state_list = qp.fileio.qload('./data/rand_ini_state_for_iterative_simulation')\n",
    "QC_6.set_initial_state(ini_state_list[0])\n",
    "QC_8.set_initial_state(ini_state_list[1])\n",
    "QC_10.set_initial_state(ini_state_list[2])"
   ]
  },
  {
   "cell_type": "code",
   "execution_count": 6,
   "id": "ed4eac9c",
   "metadata": {},
   "outputs": [],
   "source": [
    "My_list = np.arange(30, 135, 20)\n",
    "max_phase_list = My_list*0.08"
   ]
  },
  {
   "cell_type": "code",
   "execution_count": 7,
   "id": "9f837ef2",
   "metadata": {},
   "outputs": [],
   "source": [
    "def serach_min_E(QC, num_list, den_list, mu_list, inv_sig_squ_list):\n",
    "    '''\n",
    "    Scanning the Gaussian filter parameters to obtain the minimum energy.\n",
    "    \n",
    "    Parameters\n",
    "    ----------\n",
    "    QC (GFE obj): quantum circuit.\n",
    "    num_list (list): list of numerator terms.\n",
    "    den_list (list): list of denominator terms.\n",
    "    mu_list (list): list of mu to scan.\n",
    "    inv_sig_squ_list(list): list of inverse sigma square to scan.\n",
    "    ----------\n",
    "    '''\n",
    "    \n",
    "    E_est_list = []\n",
    "    for mu in mu_list:\n",
    "        for inv_sig_squ in inv_sig_squ_list:\n",
    "            # Scan the Gaussian filter parameter list\n",
    "            QC.set_Gaussian_parameters(1/inv_sig_squ, mu) # set Gaussian filter parameter\n",
    "            by_list = QC.generate_coefficient() # generate coefficient\n",
    "            E_est = QC.compute_E(by_list, num_list, den_list) # estimate energy\n",
    "            E_est_list.append(E_est)\n",
    "    E_est_list = abs(np.array(E_est_list)) # compute absolute value of estimated energy\n",
    "    E_est_min = min(E_est_list) # the minimum energy\n",
    "    \n",
    "    return E_est_min"
   ]
  },
  {
   "cell_type": "markdown",
   "id": "af7f4368",
   "metadata": {},
   "source": [
    "# Process"
   ]
  },
  {
   "cell_type": "markdown",
   "id": "61915c3f",
   "metadata": {},
   "source": [
    "## 6 qubits case"
   ]
  },
  {
   "cell_type": "code",
   "execution_count": 8,
   "id": "fa35646e",
   "metadata": {},
   "outputs": [
    {
     "name": "stdout",
     "output_type": "stream",
     "text": [
      "Max_phase:2.40, Estimation error:0.0360296396856232\n"
     ]
    }
   ],
   "source": [
    "E_est_list_6 = [] # store the estimated energy\n",
    "\n",
    "# Gaussian filter to scan\n",
    "inv_sig_squ_list = np.arange(1, 3, 0.3)\n",
    "mu_list = E_exact_6 + np.arange(0, -1, -0.1)\n",
    "\n",
    "# Compute the initial list\n",
    "num_list, den_list = QC_6.directly_compute_overlaps()\n",
    "# scan the Gaussian filter parameters to obtain the minimum energy\n",
    "E_est = serach_min_E(QC_6, num_list, den_list, mu_list, inv_sig_squ_list)\n",
    "print('Max_phase:' + \"{:.2f}\".format(QC_6.My*QC_6.dy) + ', Estimation error:' + str(E_est - E_exact_6))"
   ]
  },
  {
   "cell_type": "code",
   "execution_count": 9,
   "id": "d2fa8643",
   "metadata": {},
   "outputs": [
    {
     "name": "stdout",
     "output_type": "stream",
     "text": [
      "Max_phase:2.40, Estimation error:0.0360296396856232\n",
      "Max_phase:4.00, Estimation error:0.00022059235519550358\n",
      "Max_phase:5.60, Estimation error:7.04443559512713e-07\n",
      "Max_phase:7.20, Estimation error:1.0581331477688138e-08\n",
      "Max_phase:8.80, Estimation error:1.049629827498677e-10\n",
      "Max_phase:10.40, Estimation error:5.913630696241512e-12\n"
     ]
    }
   ],
   "source": [
    "for My in My_list:\n",
    "    pre_overlaps = [num_list, den_list] # previous overlap information\n",
    "    # update the overlap information after updating the discrete parameters\n",
    "    num_list, den_list = QC_6.directly_compute_additional_overlaps(pre_overlaps, My, dy)\n",
    "    # solve the estimated energy and store it to the list\n",
    "    E_est = serach_min_E(QC_6, num_list, den_list, mu_list, inv_sig_squ_list)\n",
    "    E_est_list_6.append(E_est)\n",
    "    print('Max_phase:' + \"{:.2f}\".format(QC_6.My*QC_6.dy) + ', Estimation error:' + str(E_est - E_exact_6))"
   ]
  },
  {
   "cell_type": "markdown",
   "id": "d8489e37",
   "metadata": {},
   "source": [
    "## 8 qubis case"
   ]
  },
  {
   "cell_type": "code",
   "execution_count": 10,
   "id": "02b7ea1f",
   "metadata": {},
   "outputs": [
    {
     "name": "stdout",
     "output_type": "stream",
     "text": [
      "Max_phase:2.40, Estimation error:0.18147968122430624\n"
     ]
    }
   ],
   "source": [
    "E_est_list_8 = [] # store the estimated energy\n",
    "\n",
    "# Gaussian filter to scan\n",
    "inv_sig_squ_list = np.arange(1, 3, 0.3)\n",
    "mu_list = E_exact_8 + np.arange(0, -1, -0.1)\n",
    "\n",
    "# Compute the initial list\n",
    "num_list, den_list = QC_8.directly_compute_overlaps()\n",
    "# scan the Gaussian filter parameters to obtain the minimum energy\n",
    "E_est = serach_min_E(QC_8, num_list, den_list, mu_list, inv_sig_squ_list)\n",
    "print('Max_phase:' + \"{:.2f}\".format(QC_8.My*QC_8.dy) + ', Estimation error:' + str(E_est - E_exact_8))"
   ]
  },
  {
   "cell_type": "code",
   "execution_count": 11,
   "id": "8310ce1b",
   "metadata": {},
   "outputs": [
    {
     "name": "stdout",
     "output_type": "stream",
     "text": [
      "Max_phase:2.40, Estimation error:0.18147968122430624\n",
      "Max_phase:4.00, Estimation error:0.0009173369849156954\n",
      "Max_phase:5.60, Estimation error:8.189490928733889e-07\n",
      "Max_phase:7.20, Estimation error:1.303617663817036e-08\n",
      "Max_phase:8.80, Estimation error:1.8230622567116939e-10\n",
      "Max_phase:10.40, Estimation error:7.377876087844015e-12\n"
     ]
    }
   ],
   "source": [
    "for My in My_list:\n",
    "    pre_overlaps = [num_list, den_list] # previous overlap information\n",
    "    # update the overlap information after updating the discrete parameters\n",
    "    num_list, den_list = QC_8.directly_compute_additional_overlaps(pre_overlaps, My, dy)\n",
    "    # solve the estimated energy and store it to the list\n",
    "    E_est = serach_min_E(QC_8, num_list, den_list, mu_list, inv_sig_squ_list)\n",
    "    E_est_list_8.append(E_est)\n",
    "    print('Max_phase:' + \"{:.2f}\".format(QC_8.My*QC_8.dy) + ', Estimation error:' + str(E_est - E_exact_8))"
   ]
  },
  {
   "cell_type": "markdown",
   "id": "960a3601",
   "metadata": {},
   "source": [
    "## 10 qubit case"
   ]
  },
  {
   "cell_type": "code",
   "execution_count": 12,
   "id": "50b311e4",
   "metadata": {},
   "outputs": [
    {
     "name": "stdout",
     "output_type": "stream",
     "text": [
      "Max_phase:2.40, Estimation error:1.1758127975931914\n"
     ]
    }
   ],
   "source": [
    "E_est_list_10 = [] # store the estimated energy\n",
    "\n",
    "# Gaussian filter to scan\n",
    "inv_sig_squ_list = np.arange(1, 3, 0.3)\n",
    "mu_list = E_exact_10 + np.arange(0, -1, -0.1)\n",
    "\n",
    "# Compute the initial list\n",
    "num_list, den_list = QC_10.directly_compute_overlaps()\n",
    "# scan the Gaussian filter parameters to obtain the minimum energy\n",
    "E_est = serach_min_E(QC_10, num_list, den_list, mu_list, inv_sig_squ_list)\n",
    "print('Max_phase:' + \"{:.2f}\".format(QC_10.My*QC_10.dy) + ', Estimation error:' + str(E_est - E_exact_10))"
   ]
  },
  {
   "cell_type": "code",
   "execution_count": 13,
   "id": "21b86ed8",
   "metadata": {},
   "outputs": [
    {
     "name": "stdout",
     "output_type": "stream",
     "text": [
      "Max_phase:2.40, Estimation error:1.1758127975931914\n",
      "Max_phase:4.00, Estimation error:0.006737978813972922\n",
      "Max_phase:5.60, Estimation error:6.197386113321324e-06\n",
      "Max_phase:7.20, Estimation error:5.8013890857910866e-08\n",
      "Max_phase:8.80, Estimation error:8.95478691198548e-10\n",
      "Max_phase:10.40, Estimation error:1.3206183369085522e-10\n"
     ]
    }
   ],
   "source": [
    "for My in My_list:\n",
    "    pre_overlaps = [num_list, den_list] # previous overlap information\n",
    "    # update the overlap information after updating the discrete parameters\n",
    "    num_list, den_list = QC_10.directly_compute_additional_overlaps(pre_overlaps, My, dy)\n",
    "    # solve the estimated energy and store it to the list\n",
    "    E_est = serach_min_E(QC_10, num_list, den_list, mu_list, inv_sig_squ_list)\n",
    "    E_est_list_10.append(E_est)\n",
    "    print('Max_phase:' + \"{:.2f}\".format(QC_10.My*QC_10.dy) + ', Estimation error:' + str(E_est - E_exact_10))"
   ]
  },
  {
   "cell_type": "markdown",
   "id": "5c917ad7",
   "metadata": {},
   "source": [
    "# Plot figure"
   ]
  },
  {
   "cell_type": "code",
   "execution_count": 14,
   "id": "02f8cbb7",
   "metadata": {},
   "outputs": [
    {
     "data": {
      "image/png": "[encoded data removed]",
      "text/plain": [
       "<Figure size 600x400 with 1 Axes>"
      ]
     },
     "metadata": {},
     "output_type": "display_data"
    }
   ],
   "source": [
    "fig = plt.figure(figsize = [6, 4])\n",
    "plt.plot(max_phase_list, E_est_list_6 - E_exact_6, 'r-*', label='N=6')\n",
    "plt.plot(max_phase_list, E_est_list_8 - E_exact_8, 'g-h', label='N=8')\n",
    "plt.plot(max_phase_list, E_est_list_10 - E_exact_10, 'b-+', label='N=10')\n",
    "\n",
    "plt.xticks(fontsize=14)\n",
    "plt.yticks(fontsize=14)\n",
    "plt.legend(fontsize=14)\n",
    "\n",
    "plt.xlabel('$\\phi_{max}$',fontsize=16)\n",
    "plt.ylabel('Error',fontsize=16)\n",
    "plt.yscale('log')\n",
    "\n",
    "plt.tight_layout()\n",
    "plt.show()\n",
    "fig.savefig(\"./figures/Ising_qubit_6_8_10_random_ini_E_vs_max_phase\", dpi = 300, bbox_inches = 'tight')"
   ]
  },
  {
   "cell_type": "code",
   "execution_count": null,
   "id": "20c918db",
   "metadata": {},
   "outputs": [],
   "source": []
  },
  {
   "cell_type": "code",
   "execution_count": null,
   "id": "a03d152d",
   "metadata": {},
   "outputs": [],
   "source": []
  }
 ],
 "metadata": {
  "kernelspec": {
   "display_name": "Python 3",
   "language": "python",
   "name": "python3"
  },
  "language_info": {
   "codemirror_mode": {
    "name": "ipython",
    "version": 3
   },
   "file_extension": ".py",
   "mimetype": "text/x-python",
   "name": "python",
   "nbconvert_exporter": "python",
   "pygments_lexer": "ipython3",
   "version": "3.9.6"
  }
 },
 "nbformat": 4,
 "nbformat_minor": 5
}
