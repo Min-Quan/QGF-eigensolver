{
 "cells": [
  {
   "cell_type": "code",
   "execution_count": 1,
   "id": "3e6e1c7e",
   "metadata": {},
   "outputs": [],
   "source": [
    "import qutip as qp\n",
    "import numpy as np\n",
    "import matplotlib.pyplot as plt\n",
    "import H_generator\n",
    "from GFE import GFE_circuit"
   ]
  },
  {
   "cell_type": "code",
   "execution_count": 2,
   "id": "163bb149",
   "metadata": {},
   "outputs": [],
   "source": [
    "# Ignore warning\n",
    "import warnings\n",
    "warnings.filterwarnings(\"ignore\")"
   ]
  },
  {
   "cell_type": "markdown",
   "id": "fc6d5f1e",
   "metadata": {},
   "source": [
    "## Rand initial state"
   ]
  },
  {
   "cell_type": "markdown",
   "id": "dadd8fa5",
   "metadata": {},
   "source": [
    "### Set parameters and initialize"
   ]
  },
  {
   "cell_type": "code",
   "execution_count": 3,
   "id": "bc1f21af",
   "metadata": {},
   "outputs": [],
   "source": [
    "QC = GFE_circuit()\n",
    "\n",
    "# Hamiltonian and initial state construction\n",
    "N = 4\n",
    "J = 1\n",
    "g = 2\n",
    "shift_E = 8.6\n",
    "H = H_generator.build_Ising_model(N, J, g, shift_E)\n",
    "E_exact = H.eigenenergies()[0] # Exact ground state energy\n",
    "\n",
    "dy, My = 0.08, 130 # discrete parameters\n",
    "QC.set_discrete_parameters(dy, My)"
   ]
  },
  {
   "cell_type": "code",
   "execution_count": 4,
   "id": "e78bcb1f",
   "metadata": {},
   "outputs": [],
   "source": [
    "# different noise parameter to mitigate error\n",
    "c_list = np.array([1, 1.1, 1.2, 1.3, 1.4])\n",
    "M = []\n",
    "for i in range(len(c_list)):\n",
    "    M.append(c_list**(i))\n",
    "M = np.array(M)\n",
    "inv_M = np.linalg.pinv(M)\n",
    "one_zero_vec = np.zeros(len(c_list))\n",
    "one_zero_vec[0] = 1\n",
    "gamma_list = np.dot(inv_M, one_zero_vec)"
   ]
  },
  {
   "cell_type": "markdown",
   "id": "47843866",
   "metadata": {},
   "source": [
    "### Bit-flip noise"
   ]
  },
  {
   "cell_type": "code",
   "execution_count": 5,
   "id": "4616cd46",
   "metadata": {},
   "outputs": [],
   "source": [
    "# load data\n",
    "num_mat, den_mat = np.load('./data/solve_ising_4_qubit_bit_flip_rand_ini.npy', allow_pickle=True)\n",
    "\n",
    "'''\n",
    "The data contains five sets of numerator list and denominator list. The first one\n",
    "corresponds zero noise case, and the others correspond to different noise cases.\n",
    "'''\n",
    "\n",
    "# My list and max phase list\n",
    "My_list = np.arange(30, 135, 20)\n",
    "max_phase_list = My_list*0.08\n",
    "\n",
    "# mu and sigma square list to scan\n",
    "mu_list = np.arange(0, -0.5, -0.05)\n",
    "inv_sig_squ_list = np.arange(1, 3, 0.3)\n",
    "sig_squ_list = 1/inv_sig_squ_list\n",
    "\n",
    "E_min_list_noiseless = [] # Estimated energy for noiseless case\n",
    "E_min_list_noisy = [] # Estimated energy under noise\n",
    "E_min_list_mitigated = [] # Estimated energy after noise mitigation\n",
    "for My in My_list:\n",
    "    QC.set_discrete_parameters(dy, My) # update My\n",
    "    # energy list for single max phase\n",
    "    # each energy corresponds to a Gaussian filter parameter\n",
    "    E_list_noiseless = []\n",
    "    E_list_noisy = []\n",
    "    E_list_mitigated = []\n",
    "    for sig_squ in sig_squ_list:\n",
    "        for mu in mu_list:\n",
    "            # Scan the Gaussian filter parameter to search the minimum energy\n",
    "            QC.set_Gaussian_parameters(sig_squ, mu)\n",
    "            # generate the coefficient corresponding to the different Gaussian parameters\n",
    "            by_list = QC.generate_coefficient()\n",
    "            E_list_c = [] # store the Energy corresponding to different noise\n",
    "            for i in range(len(num_mat)):\n",
    "                num_list = num_mat[i][260-2*My:261+2*My]\n",
    "                den_list = den_mat[i][260-2*My:261+2*My]\n",
    "                E = QC.compute_E(by_list, num_list, den_list)\n",
    "                E_list_c.append(E)\n",
    "            E_list_c = abs(np.array(E_list_c))\n",
    "            E_list_noiseless.append(E_list_c[0])\n",
    "            E_list_noisy.append(E_list_c[1])\n",
    "            # the mitigated one is a weighted summation of energy for different noise case\n",
    "            E_list_mitigated.append(sum(E_list_c[1:]*gamma_list))\n",
    "    # append the minimum energy to list\n",
    "    E_min_list_noiseless.append(min(E_list_noiseless))\n",
    "    E_min_list_noisy.append(min(E_list_noisy))\n",
    "    E_min_list_mitigated.append(min(E_list_mitigated))"
   ]
  },
  {
   "cell_type": "code",
   "execution_count": 6,
   "id": "0e2cb7e0",
   "metadata": {},
   "outputs": [
    {
     "data": {
      "image/png": "[encoded data removed]",
      "text/plain": [
       "<Figure size 600x400 with 1 Axes>"
      ]
     },
     "metadata": {},
     "output_type": "display_data"
    }
   ],
   "source": [
    "fig = plt.figure(figsize = [6, 4])\n",
    "plt.plot(max_phase_list, abs(E_min_list_noiseless - E_exact), 'r-*', label='Noiseless')\n",
    "plt.plot(max_phase_list, abs(E_min_list_noisy - E_exact), 'g-v', label='$P_{bf}=0.0001$')\n",
    "plt.plot(max_phase_list, abs(E_min_list_mitigated - E_exact), 'b-o', label='Mitigated')\n",
    "\n",
    "\n",
    "plt.xticks(fontsize=14)\n",
    "plt.yticks(fontsize=14)\n",
    "plt.legend(fontsize=14)\n",
    "\n",
    "plt.xlabel('$\\phi_{max}$',fontsize=16)\n",
    "plt.ylabel('Error',fontsize=16)\n",
    "plt.yscale('log')\n",
    "plt.tight_layout()\n",
    "\n",
    "plt.show()\n",
    "fig.savefig(\"./figures/Ising_qubit_4_random_ini_with_bit_flip_E_vs_max_phase\", dpi = 300, bbox_inches = 'tight')"
   ]
  },
  {
   "cell_type": "code",
   "execution_count": 7,
   "id": "36456c08",
   "metadata": {},
   "outputs": [
    {
     "data": {
      "text/plain": [
       "array([0.01291529, 0.00179655, 0.00155315, 0.00155785, 0.00155784,\n",
       "       0.00155784])"
      ]
     },
     "execution_count": 7,
     "metadata": {},
     "output_type": "execute_result"
    }
   ],
   "source": [
    "E_min_list_noiseless - E_exact"
   ]
  },
  {
   "cell_type": "code",
   "execution_count": 8,
   "id": "7ea762bb",
   "metadata": {},
   "outputs": [
    {
     "data": {
      "text/plain": [
       "array([0.22351555, 0.13378496, 0.11517172, 0.11208723, 0.1117118 ,\n",
       "       0.11168082])"
      ]
     },
     "execution_count": 8,
     "metadata": {},
     "output_type": "execute_result"
    }
   ],
   "source": [
    "E_min_list_noisy - E_exact"
   ]
  },
  {
   "cell_type": "code",
   "execution_count": 9,
   "id": "084c4e3e",
   "metadata": {},
   "outputs": [
    {
     "data": {
      "text/plain": [
       "array([0.01215422, 0.00145742, 0.00117591, 0.00117923, 0.00117919,\n",
       "       0.00117919])"
      ]
     },
     "execution_count": 9,
     "metadata": {},
     "output_type": "execute_result"
    }
   ],
   "source": [
    "E_min_list_mitigated - E_exact"
   ]
  },
  {
   "cell_type": "markdown",
   "id": "82b87d60",
   "metadata": {},
   "source": [
    "### Phase-flip noise"
   ]
  },
  {
   "cell_type": "code",
   "execution_count": 10,
   "id": "be3964a3",
   "metadata": {},
   "outputs": [],
   "source": [
    "# load data\n",
    "num_mat, den_mat = np.load('./data/solve_ising_4_qubit_phase_flip_rand_ini.npy', allow_pickle=True)\n",
    "\n",
    "My_list = np.arange(30, 135, 20)\n",
    "max_phase_list = My_list*0.08\n",
    "\n",
    "# mu and sigma square list to scan\n",
    "mu_list = np.arange(0, -0.5, -0.05)\n",
    "inv_sig_squ_list = np.arange(1, 3, 0.3)\n",
    "sig_squ_list = 1/inv_sig_squ_list\n",
    "\n",
    "E_min_list_noiseless = []\n",
    "E_min_list_noisy = []\n",
    "E_min_list_mitigated = []\n",
    "for My in My_list:\n",
    "    QC.set_discrete_parameters(dy, My)\n",
    "    E_list_noiseless = []\n",
    "    E_list_noisy = []\n",
    "    E_list_mitigated = []\n",
    "    for sig_squ in sig_squ_list:\n",
    "        for mu in mu_list:\n",
    "            QC.set_Gaussian_parameters(sig_squ, mu)\n",
    "            by_list = QC.generate_coefficient()\n",
    "            E_list_c = []\n",
    "            for i in range(len(num_mat)):\n",
    "                num_list = num_mat[i][260-2*My:261+2*My]\n",
    "                den_list = den_mat[i][260-2*My:261+2*My]\n",
    "                E = QC.compute_E(by_list, num_list, den_list)\n",
    "                E_list_c.append(E)\n",
    "            E_list_c = abs(np.array(E_list_c))\n",
    "            E_list_noiseless.append(E_list_c[0])\n",
    "            E_list_noisy.append(E_list_c[1])\n",
    "            E_list_mitigated.append(sum(E_list_c[1:]*gamma_list))\n",
    "    E_min_list_noiseless.append(min(E_list_noiseless))\n",
    "    E_min_list_noisy.append(min(E_list_noisy))\n",
    "    E_min_list_mitigated.append(min(E_list_mitigated))"
   ]
  },
  {
   "cell_type": "code",
   "execution_count": 11,
   "id": "a85a3f35",
   "metadata": {},
   "outputs": [
    {
     "data": {
      "image/png": "[encoded data removed]",
      "text/plain": [
       "<Figure size 600x400 with 1 Axes>"
      ]
     },
     "metadata": {},
     "output_type": "display_data"
    }
   ],
   "source": [
    "fig = plt.figure(figsize = [6, 4])\n",
    "plt.plot(max_phase_list, abs(E_min_list_noiseless - E_exact), 'r-*', label='Noiseless')\n",
    "plt.plot(max_phase_list, abs(E_min_list_noisy - E_exact), 'g-v', label='$P_{pf}=0.0001$')\n",
    "plt.plot(max_phase_list, abs(E_min_list_mitigated - E_exact), 'b-o', label='Mitigated')\n",
    "\n",
    "\n",
    "plt.xticks(fontsize=14)\n",
    "plt.yticks(fontsize=14)\n",
    "plt.legend(fontsize=14)\n",
    "\n",
    "plt.xlabel('$\\phi_{max}$',fontsize=16)\n",
    "plt.ylabel('Error',fontsize=16)\n",
    "plt.yscale('log')\n",
    "plt.tight_layout()\n",
    "\n",
    "plt.show()\n",
    "fig.savefig(\"./figures/Ising_qubit_4_random_ini_with_phase_flip_E_vs_max_phase\", dpi = 300, bbox_inches = 'tight')"
   ]
  },
  {
   "cell_type": "code",
   "execution_count": 12,
   "id": "bf5b0e5a",
   "metadata": {},
   "outputs": [
    {
     "data": {
      "text/plain": [
       "array([0.01291529, 0.00179655, 0.00155315, 0.00155785, 0.00155784,\n",
       "       0.00155784])"
      ]
     },
     "execution_count": 12,
     "metadata": {},
     "output_type": "execute_result"
    }
   ],
   "source": [
    "E_min_list_noiseless - E_exact"
   ]
  },
  {
   "cell_type": "code",
   "execution_count": 13,
   "id": "996365fa",
   "metadata": {},
   "outputs": [
    {
     "data": {
      "text/plain": [
       "array([0.31824267, 0.22676715, 0.20882317, 0.20668381, 0.2065216 ,\n",
       "       0.20651396])"
      ]
     },
     "execution_count": 13,
     "metadata": {},
     "output_type": "execute_result"
    }
   ],
   "source": [
    "E_min_list_noisy - E_exact"
   ]
  },
  {
   "cell_type": "code",
   "execution_count": 14,
   "id": "5a61c14e",
   "metadata": {},
   "outputs": [
    {
     "data": {
      "text/plain": [
       "array([0.01373394, 0.00237621, 0.00222423, 0.00223125, 0.00223125,\n",
       "       0.00223125])"
      ]
     },
     "execution_count": 14,
     "metadata": {},
     "output_type": "execute_result"
    }
   ],
   "source": [
    "E_min_list_mitigated - E_exact"
   ]
  },
  {
   "cell_type": "markdown",
   "id": "1e36976f",
   "metadata": {},
   "source": [
    "## Well-prepared initial state\n",
    "In above procedure, we adopt a random generalized initial state. If we can prepare the initial state with the knowledge of the Hamiltonian, the result may be better. For example, in this demonstration, the $\\sum_{n} \\sigma^{x}_{n}$ term is the leading term. We may prepare an initial state that is the eigenstate of $\\sum_{n} \\sigma^{x}_{n}$ by applying a Hadmadard gate and sigima Z on each qubit."
   ]
  },
  {
   "cell_type": "code",
   "execution_count": 15,
   "id": "c0651d32",
   "metadata": {},
   "outputs": [],
   "source": [
    "# load data\n",
    "num_mat, den_mat = np.load('./data/solve_ising_4_qubit_bit_flip_well_prep_ini.npy', allow_pickle=True)\n",
    "\n",
    "My_list = np.arange(30, 135, 20)\n",
    "max_phase_list = My_list*0.08\n",
    "\n",
    "# mu and sigma square list to scan\n",
    "mu_list = np.arange(0, -0.5, -0.05)\n",
    "inv_sig_squ_list = np.arange(1, 3, 0.3)\n",
    "sig_squ_list = 1/inv_sig_squ_list\n",
    "\n",
    "E_min_list_noiseless = []\n",
    "E_min_list_noisy = []\n",
    "E_min_list_mitigated = []\n",
    "for My in My_list:\n",
    "    QC.set_discrete_parameters(dy, My)\n",
    "    E_list_noiseless = []\n",
    "    E_list_noisy = []\n",
    "    E_list_mitigated = []\n",
    "    for sig_squ in sig_squ_list:\n",
    "        for mu in mu_list:\n",
    "            QC.set_Gaussian_parameters(sig_squ, mu)\n",
    "            by_list = QC.generate_coefficient()\n",
    "            E_list_c = []\n",
    "            for i in range(len(num_mat)):\n",
    "                num_list = num_mat[i][260-2*My:261+2*My]\n",
    "                den_list = den_mat[i][260-2*My:261+2*My]\n",
    "                E = QC.compute_E(by_list, num_list, den_list)\n",
    "                E_list_c.append(E)\n",
    "            E_list_c = abs(np.array(E_list_c))\n",
    "            E_list_noiseless.append(E_list_c[0])\n",
    "            E_list_noisy.append(E_list_c[1])\n",
    "            E_list_mitigated.append(sum(E_list_c[1:]*gamma_list))\n",
    "    E_min_list_noiseless.append(min(E_list_noiseless))\n",
    "    E_min_list_noisy.append(min(E_list_noisy))\n",
    "    E_min_list_mitigated.append(min(E_list_mitigated))"
   ]
  },
  {
   "cell_type": "code",
   "execution_count": 16,
   "id": "742db246",
   "metadata": {},
   "outputs": [
    {
     "data": {
      "image/png": "[encoded data removed]",
      "text/plain": [
       "<Figure size 600x400 with 1 Axes>"
      ]
     },
     "metadata": {},
     "output_type": "display_data"
    }
   ],
   "source": [
    "fig = plt.figure(figsize = [6, 4])\n",
    "plt.plot(max_phase_list, abs(E_min_list_noiseless - E_exact), 'r-*', label='Noiseless')\n",
    "plt.plot(max_phase_list, abs(E_min_list_noisy - E_exact), 'g-v', label='$P_{bf}=0.0001$')\n",
    "plt.plot(max_phase_list, abs(E_min_list_mitigated - E_exact), 'b-o', label='Mitigated')\n",
    "\n",
    "\n",
    "plt.xticks(fontsize=14)\n",
    "plt.yticks(fontsize=14)\n",
    "plt.legend(fontsize=14)\n",
    "\n",
    "plt.xlabel('$\\phi_{max}$',fontsize=16)\n",
    "plt.ylabel('Error',fontsize=16)\n",
    "plt.yscale('log')\n",
    "plt.tight_layout()\n",
    "\n",
    "plt.show()\n",
    "fig.savefig(\"./figures/Ising_qubit_4_well_prep_ini_with_bit_flip_E_vs_max_phase\", dpi = 300, bbox_inches = 'tight')"
   ]
  },
  {
   "cell_type": "code",
   "execution_count": 17,
   "id": "1349dc61",
   "metadata": {},
   "outputs": [
    {
     "data": {
      "text/plain": [
       "array([0.00037002, 0.00034982, 0.00036457, 0.00036491, 0.00036491,\n",
       "       0.00036491])"
      ]
     },
     "execution_count": 17,
     "metadata": {},
     "output_type": "execute_result"
    }
   ],
   "source": [
    "E_min_list_noiseless - E_exact"
   ]
  },
  {
   "cell_type": "code",
   "execution_count": 18,
   "id": "5bda6cda",
   "metadata": {},
   "outputs": [
    {
     "data": {
      "text/plain": [
       "array([0.00215324, 0.00156352, 0.00142888, 0.00141168, 0.00140972,\n",
       "       0.00140955])"
      ]
     },
     "execution_count": 18,
     "metadata": {},
     "output_type": "execute_result"
    }
   ],
   "source": [
    "E_min_list_noisy - E_exact"
   ]
  },
  {
   "cell_type": "code",
   "execution_count": 19,
   "id": "5743c610",
   "metadata": {},
   "outputs": [
    {
     "data": {
      "text/plain": [
       "array([0.00036917, 0.00034914, 0.00036384, 0.00036418, 0.00036418,\n",
       "       0.00036418])"
      ]
     },
     "execution_count": 19,
     "metadata": {},
     "output_type": "execute_result"
    }
   ],
   "source": [
    "E_min_list_mitigated - E_exact"
   ]
  },
  {
   "cell_type": "markdown",
   "id": "c4be3f7f",
   "metadata": {},
   "source": [
    "### Phase-flip noise"
   ]
  },
  {
   "cell_type": "code",
   "execution_count": 20,
   "id": "993c5d16",
   "metadata": {},
   "outputs": [],
   "source": [
    "# load data\n",
    "num_mat, den_mat = np.load('./data/solve_ising_4_qubit_phase_flip_well_prep_ini.npy', allow_pickle=True)\n",
    "\n",
    "My_list = np.arange(30, 135, 20)\n",
    "max_phase_list = My_list*0.08\n",
    "\n",
    "# mu and sigma square list to scan\n",
    "mu_list = np.arange(0, -0.5, -0.05)\n",
    "inv_sig_squ_list = np.arange(1, 3, 0.3)\n",
    "sig_squ_list = 1/inv_sig_squ_list\n",
    "\n",
    "E_min_list_noiseless = []\n",
    "E_min_list_noisy = []\n",
    "E_min_list_mitigated = []\n",
    "for My in My_list:\n",
    "    QC.set_discrete_parameters(dy, My)\n",
    "    E_list_noiseless = []\n",
    "    E_list_noisy = []\n",
    "    E_list_mitigated = []\n",
    "    for sig_squ in sig_squ_list:\n",
    "        for mu in mu_list:\n",
    "            QC.set_Gaussian_parameters(sig_squ, mu)\n",
    "            by_list = QC.generate_coefficient()\n",
    "            E_list_c = []\n",
    "            for i in range(len(num_mat)):\n",
    "                num_list = num_mat[i][260-2*My:261+2*My]\n",
    "                den_list = den_mat[i][260-2*My:261+2*My]\n",
    "                E = QC.compute_E(by_list, num_list, den_list)\n",
    "                E_list_c.append(E)\n",
    "            E_list_c = abs(np.array(E_list_c))\n",
    "            E_list_noiseless.append(E_list_c[0])\n",
    "            E_list_noisy.append(E_list_c[1])\n",
    "            E_list_mitigated.append(sum(E_list_c[1:]*gamma_list))\n",
    "    E_min_list_noiseless.append(min(E_list_noiseless))\n",
    "    E_min_list_noisy.append(min(E_list_noisy))\n",
    "    E_min_list_mitigated.append(min(E_list_mitigated))"
   ]
  },
  {
   "cell_type": "code",
   "execution_count": 21,
   "id": "4b232fde",
   "metadata": {},
   "outputs": [
    {
     "data": {
      "image/png": "[encoded data removed]",
      "text/plain": [
       "<Figure size 600x400 with 1 Axes>"
      ]
     },
     "metadata": {},
     "output_type": "display_data"
    }
   ],
   "source": [
    "fig = plt.figure(figsize = [6, 4])\n",
    "plt.plot(max_phase_list, abs(E_min_list_noiseless - E_exact), 'r-*', label='Noiseless')\n",
    "plt.plot(max_phase_list, abs(E_min_list_noisy - E_exact), 'g-v', label='$P_{pf}=0.0001$')\n",
    "plt.plot(max_phase_list, abs(E_min_list_mitigated - E_exact), 'b-o', label='Mitigated')\n",
    "\n",
    "\n",
    "plt.xticks(fontsize=14)\n",
    "plt.yticks(fontsize=14)\n",
    "plt.legend(fontsize=14)\n",
    "\n",
    "plt.xlabel('$\\phi_{max}$',fontsize=16)\n",
    "plt.ylabel('Error',fontsize=16)\n",
    "plt.yscale('log')\n",
    "plt.tight_layout()\n",
    "\n",
    "plt.show()\n",
    "fig.savefig(\"./figures/Ising_qubit_4_well_prep_ini_with_phase_flip_E_vs_max_phase\", dpi = 300, bbox_inches = 'tight')"
   ]
  },
  {
   "cell_type": "code",
   "execution_count": 22,
   "id": "72decd93",
   "metadata": {},
   "outputs": [
    {
     "data": {
      "text/plain": [
       "array([0.00037002, 0.00034982, 0.00036457, 0.00036491, 0.00036491,\n",
       "       0.00036491])"
      ]
     },
     "execution_count": 22,
     "metadata": {},
     "output_type": "execute_result"
    }
   ],
   "source": [
    "E_min_list_noiseless - E_exact"
   ]
  },
  {
   "cell_type": "code",
   "execution_count": 23,
   "id": "7fb8c252",
   "metadata": {},
   "outputs": [
    {
     "data": {
      "text/plain": [
       "array([0.01322494, 0.01561072, 0.01579404, 0.01579727, 0.01579728,\n",
       "       0.01579728])"
      ]
     },
     "execution_count": 23,
     "metadata": {},
     "output_type": "execute_result"
    }
   ],
   "source": [
    "E_min_list_noisy - E_exact"
   ]
  },
  {
   "cell_type": "code",
   "execution_count": 24,
   "id": "3bb2569a",
   "metadata": {},
   "outputs": [
    {
     "data": {
      "text/plain": [
       "array([0.00038252, 0.00037576, 0.00039396, 0.0003945 , 0.0003945 ,\n",
       "       0.0003945 ])"
      ]
     },
     "execution_count": 24,
     "metadata": {},
     "output_type": "execute_result"
    }
   ],
   "source": [
    "E_min_list_mitigated - E_exact"
   ]
  }
 ],
 "metadata": {
  "kernelspec": {
   "display_name": "Python 3",
   "language": "python",
   "name": "python3"
  },
  "language_info": {
   "codemirror_mode": {
    "name": "ipython",
    "version": 3
   },
   "file_extension": ".py",
   "mimetype": "text/x-python",
   "name": "python",
   "nbconvert_exporter": "python",
   "pygments_lexer": "ipython3",
   "version": "3.9.6"
  }
 },
 "nbformat": 4,
 "nbformat_minor": 5
}
